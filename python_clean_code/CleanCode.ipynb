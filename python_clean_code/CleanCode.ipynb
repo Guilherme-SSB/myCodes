{
 "cells": [
  {
   "cell_type": "markdown",
   "id": "e1aa1f87-f06a-4d9f-a402-f8400692f278",
   "metadata": {},
   "source": [
    "# Tips - Clean Code"
   ]
  },
  {
   "cell_type": "markdown",
   "id": "4bb93559-8fe7-4bc5-abbf-d2ed8232c55f",
   "metadata": {},
   "source": [
    "## 1. Readability, Explicit and Beautiful"
   ]
  },
  {
   "cell_type": "code",
   "execution_count": 8,
   "id": "59e4d35e-f939-46ee-ba0a-de1775d96068",
   "metadata": {},
   "outputs": [
    {
     "name": "stdout",
     "output_type": "stream",
     "text": [
      "365\n"
     ]
    }
   ],
   "source": [
    "\"\"\"\n",
    "year = 2020\n",
    "days = 365\n",
    "if (year % 4 == 0 and year % 100 != 0) or year % 400 == 0:\n",
    "    dias += 1\n",
    "\"\"\"\n",
    "\n",
    "def verify_leap_year(year):\n",
    "    if (year % 4 == 0 and year % 100 != 0) or year % 400 == 0:\n",
    "        return True\n",
    "    else:\n",
    "        return False\n",
    "\n",
    "year = 2021\n",
    "days = 365\n",
    "if verify_leap_year(year):\n",
    "    days+=1\n",
    "\n",
    "print(days)"
   ]
  },
  {
   "cell_type": "code",
   "execution_count": 10,
   "id": "097724e6-c833-49f2-8b06-a61366c0ead6",
   "metadata": {},
   "outputs": [
    {
     "name": "stdout",
     "output_type": "stream",
     "text": [
      "26/04/2021\n"
     ]
    }
   ],
   "source": [
    "\"\"\"\n",
    "import datetime\n",
    "\n",
    "x = datetime.date.today().strftime(\"%d/%m/%Y\")\n",
    "print(x)\n",
    "\"\"\"\n",
    "\n",
    "import datetime\n",
    "\n",
    "today_date = datetime.date.today().strftime(\"%d/%m/%Y\")\n",
    "print(today_date)"
   ]
  },
  {
   "cell_type": "markdown",
   "id": "252828e7-1acf-4391-91f4-6aa4484e5492",
   "metadata": {},
   "source": [
    "## 2. Conventions to:\n"
   ]
  },
  {
   "cell_type": "markdown",
   "id": "960853c4-ac93-4b14-bac3-fb8fafbd2e39",
   "metadata": {},
   "source": [
    "### 2.1 Variable"
   ]
  },
  {
   "cell_type": "code",
   "execution_count": 11,
   "id": "2e5840be-6dc0-44f1-ae77-b4477e89b952",
   "metadata": {},
   "outputs": [],
   "source": [
    "\"\"\"\n",
    "x = \"Guilherme Samuel\"\n",
    "\"\"\"\n",
    "\n",
    "full_name = \"Guilherme Samuel\""
   ]
  },
  {
   "cell_type": "markdown",
   "id": "ba98ae62-6bc8-43b7-932a-14ddefd12c1a",
   "metadata": {},
   "source": [
    "### 2.2 Constants"
   ]
  },
  {
   "cell_type": "code",
   "execution_count": 14,
   "id": "1bfdf989-64c9-4e15-938f-311abda00366",
   "metadata": {},
   "outputs": [
    {
     "name": "stdout",
     "output_type": "stream",
     "text": [
      "6400000000\n"
     ]
    }
   ],
   "source": [
    "PI = 3.14159265359\n",
    "\n",
    "NEPER = 2.718281828\n",
    "\n",
    "RANDOM_CONSTANT = 6_400_000_000  #The insertion of _ within the number, does not affect anything in the code and increases the legibility of the number \n",
    "\n",
    "print(RANDOM_CONSTANT)"
   ]
  },
  {
   "cell_type": "markdown",
   "id": "bb7ab3e1-fb56-4628-aa87-2b93eb22b000",
   "metadata": {},
   "source": [
    "### 2.3 Functions"
   ]
  },
  {
   "cell_type": "code",
   "execution_count": 15,
   "id": "cd2a476c-1da1-49e7-994c-ee27fb84a99b",
   "metadata": {},
   "outputs": [],
   "source": [
    "def compute_age(days):  # A function name is always lower() and separated by _\n",
    "    pass"
   ]
  },
  {
   "cell_type": "markdown",
   "id": "605296d5-eda0-4235-80b9-4ed54d0cf666",
   "metadata": {},
   "source": [
    "### 2.4 Classes"
   ]
  },
  {
   "cell_type": "code",
   "execution_count": 18,
   "id": "d1dce0a2-a3e6-4671-86dc-37bb00e1c5ef",
   "metadata": {},
   "outputs": [],
   "source": [
    "# Attributes: a, b, c\n",
    "# a -> public\n",
    "# b -> protected (Python do not differentiates public from protected, but is a great practice)\n",
    "# c -> private\n",
    "\n",
    "class UserLogin:\n",
    "    def __init__(self, param_a, param_b, param_c):\n",
    "        self.a = param_a\n",
    "        self._b = param_b\n",
    "        self.__c = param_c\n",
    "    # 1 enter\n",
    "    def example_one(self):\n",
    "        pass\n",
    "    # 1 enter\n",
    "    def example_two(self):\n",
    "        pass\n",
    "\n",
    "    # 2 enter\n",
    "class User:\n",
    "    def __init__(self):\n",
    "        pass"
   ]
  },
  {
   "cell_type": "code",
   "execution_count": 20,
   "id": "f2ceb45f-ee26-426f-8ae2-085f7c83bc85",
   "metadata": {},
   "outputs": [
    {
     "name": "stdout",
     "output_type": "stream",
     "text": [
      "100\n",
      "200\n"
     ]
    }
   ],
   "source": [
    "obj_login = UserLogin(100, 200, 300)\n",
    "\n",
    "print(obj_login.a)\n",
    "print(obj_login._b)\n",
    "# print(obj_login.__c)"
   ]
  }
 ],
 "metadata": {
  "kernelspec": {
   "display_name": "Python 3",
   "language": "python",
   "name": "python3"
  },
  "language_info": {
   "codemirror_mode": {
    "name": "ipython",
    "version": 3
   },
   "file_extension": ".py",
   "mimetype": "text/x-python",
   "name": "python",
   "nbconvert_exporter": "python",
   "pygments_lexer": "ipython3",
   "version": "3.8.7"
  }
 },
 "nbformat": 4,
 "nbformat_minor": 5
}
